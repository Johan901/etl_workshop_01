{
 "cells": [
  {
   "cell_type": "markdown",
   "metadata": {},
   "source": [
    "We read our dataframe."
   ]
  },
  {
   "cell_type": "code",
   "execution_count": 38,
   "metadata": {},
   "outputs": [],
   "source": [
    "import pandas as pd\n",
    "\n",
    "df = pd.read_csv('../candidates.csv' , sep=';')"
   ]
  },
  {
   "cell_type": "code",
   "execution_count": 39,
   "metadata": {},
   "outputs": [
    {
     "name": "stdout",
     "output_type": "stream",
     "text": [
      "Index(['first_name', 'last_name', 'email', 'application_date', 'country',\n",
      "       'yoe', 'seniority', 'technology', 'code_challenge_score',\n",
      "       'technical_interview'],\n",
      "      dtype='object')\n"
     ]
    }
   ],
   "source": [
    "df.rename(columns={\n",
    "        'First Name': 'first_name',\n",
    "        'Last Name': 'last_name',\n",
    "        'Email': 'email',\n",
    "        'Application Date': 'application_date',\n",
    "        'Country': 'country',\n",
    "        'YOE': 'yoe',\n",
    "        'Seniority': 'seniority',\n",
    "        'Technology': 'technology',\n",
    "        'Code Challenge Score': 'code_challenge_score',\n",
    "        'Technical Interview Score': 'technical_interview'\n",
    "    }, inplace=True)\n",
    "\n",
    "print(df.columns)"
   ]
  },
  {
   "cell_type": "markdown",
   "metadata": {},
   "source": [
    "Connection to our database \"workshop_01\""
   ]
  },
  {
   "cell_type": "code",
   "execution_count": 33,
   "metadata": {},
   "outputs": [
    {
     "name": "stdout",
     "output_type": "stream",
     "text": [
      "¡Conexión exitosa!\n"
     ]
    },
    {
     "data": {
      "text/plain": [
       "<connection object at 0x000001EED1C0F450; dsn: 'user=postgres password=xxx dbname=workshop_01 host=localhost port=5432', closed: 0>"
      ]
     },
     "execution_count": 33,
     "metadata": {},
     "output_type": "execute_result"
    }
   ],
   "source": [
    "import psycopg2\n",
    "import json\n",
    "\n",
    "def create_connection():\n",
    "    try:\n",
    "        with open('../credentials.json') as f:\n",
    "            credentials = json.load(f)\n",
    "        \n",
    "        user = credentials['user']\n",
    "        password = credentials['password']\n",
    "        host = credentials['host']\n",
    "        port = credentials['port']\n",
    "        database = 'workshop_01'\n",
    "        \n",
    "        connection = psycopg2.connect(\n",
    "            dbname=database,\n",
    "            user=user,\n",
    "            password=password,\n",
    "            host=host,\n",
    "            port=port\n",
    "        )\n",
    "        print(\"¡Conexión exitosa!\")\n",
    "        return connection\n",
    "    except psycopg2.OperationalError as e:\n",
    "        print(f\"Error al conectar a la base de datos: {e}\")\n",
    "        return None\n",
    "\n",
    "create_connection()"
   ]
  },
  {
   "cell_type": "markdown",
   "metadata": {},
   "source": [
    "We create our table \"workshop_01\""
   ]
  },
  {
   "cell_type": "code",
   "execution_count": 34,
   "metadata": {},
   "outputs": [
    {
     "name": "stdout",
     "output_type": "stream",
     "text": [
      "¡Conexión exitosa!\n",
      "Tabla 'workshop_01' creada con éxito en la base de datos.\n"
     ]
    }
   ],
   "source": [
    "def create_table():\n",
    "    connection = create_connection()\n",
    "    if connection is not None:\n",
    "        try:\n",
    "            cursor = connection.cursor()\n",
    "            cursor.execute(\"\"\"\n",
    "                CREATE TABLE IF NOT EXISTS workshop_01 (\n",
    "                    first_name VARCHAR(150),\n",
    "                    last_name VARCHAR(150),\n",
    "                    email VARCHAR(100),\n",
    "                    country VARCHAR(150),\n",
    "                    application_date DATE,\n",
    "                    yoe INTEGER,\n",
    "                    seniority VARCHAR(150),\n",
    "                    technology VARCHAR(100),\n",
    "                    code_challenge_score DECIMAL(5, 2),\n",
    "                    technical_interview VARCHAR(150)\n",
    "                );\n",
    "            \"\"\")\n",
    "            connection.commit()\n",
    "            print(\"Tabla 'workshop_01' creada con éxito en la base de datos.\")\n",
    "        except psycopg2.Error as e:\n",
    "            print(f\"Error al crear la tabla: {e}\")\n",
    "        finally:\n",
    "            cursor.close()\n",
    "            connection.close()\n",
    "    else:\n",
    "        print(\"No se pudo establecer la conexión con la base de datos.\")\n",
    "\n",
    "create_table()"
   ]
  },
  {
   "cell_type": "code",
   "execution_count": 40,
   "metadata": {},
   "outputs": [
    {
     "name": "stdout",
     "output_type": "stream",
     "text": [
      "¡Conexión exitosa!\n",
      "Datos insertados exitosamente\n"
     ]
    }
   ],
   "source": [
    "def insertar_datos(df):\n",
    "    connection = create_connection()\n",
    "    if connection is not None:\n",
    "        cursor = connection.cursor()\n",
    "        query = \"\"\"\n",
    "        INSERT INTO workshop_01 (\n",
    "            first_name, last_name, email, country, application_date,\n",
    "            yoe, seniority, technology, code_challenge_score, technical_interview\n",
    "        ) VALUES (\n",
    "            %(first_name)s, %(last_name)s, %(email)s, %(country)s, %(application_date)s,\n",
    "            %(yoe)s, %(seniority)s, %(technology)s, %(code_challenge_score)s, %(technical_interview)s\n",
    "        )\n",
    "        \"\"\"\n",
    "        try:\n",
    "            for index, row in df.iterrows():\n",
    "                data = row.to_dict()\n",
    "                cursor.execute(query, data)\n",
    "            connection.commit()\n",
    "            print(\"Datos insertados exitosamente\")\n",
    "        except (Exception, psycopg2.DatabaseError) as error:\n",
    "            print(f\"Error al insertar datos: {error}\")\n",
    "        finally:\n",
    "            cursor.close()\n",
    "            connection.close()\n",
    "    else:\n",
    "        print(\"No se pudo establecer la conexión con la base de datos.\")\n",
    "\n",
    "# Insertar los datos en la base de datos\n",
    "insertar_datos(df)\n"
   ]
  }
 ],
 "metadata": {
  "kernelspec": {
   "display_name": ".venv",
   "language": "python",
   "name": "python3"
  },
  "language_info": {
   "codemirror_mode": {
    "name": "ipython",
    "version": 3
   },
   "file_extension": ".py",
   "mimetype": "text/x-python",
   "name": "python",
   "nbconvert_exporter": "python",
   "pygments_lexer": "ipython3",
   "version": "3.11.4"
  }
 },
 "nbformat": 4,
 "nbformat_minor": 2
}
