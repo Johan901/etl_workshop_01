{
 "cells": [
  {
   "cell_type": "markdown",
   "metadata": {},
   "source": [
    "We read our dataframe."
   ]
  },
  {
   "cell_type": "code",
   "execution_count": 38,
   "metadata": {},
   "outputs": [],
   "source": [
    "import pandas as pd\n",
    "\n",
    "df = pd.read_csv('../candidates.csv' , sep=';')"
   ]
  },
  {
   "cell_type": "code",
   "execution_count": 39,
   "metadata": {},
   "outputs": [
    {
     "name": "stdout",
     "output_type": "stream",
     "text": [
      "Index(['first_name', 'last_name', 'email', 'application_date', 'country',\n",
      "       'yoe', 'seniority', 'technology', 'code_challenge_score',\n",
      "       'technical_interview'],\n",
      "      dtype='object')\n"
     ]
    }
   ],
   "source": [
    "df.rename(columns={\n",
    "        'First Name': 'first_name',\n",
    "        'Last Name': 'last_name',\n",
    "        'Email': 'email',\n",
    "        'Application Date': 'application_date',\n",
    "        'Country': 'country',\n",
    "        'YOE': 'yoe',\n",
    "        'Seniority': 'seniority',\n",
    "        'Technology': 'technology',\n",
    "        'Code Challenge Score': 'code_challenge_score',\n",
    "        'Technical Interview Score': 'technical_interview'\n",
    "    }, inplace=True)\n",
    "\n",
    "print(df.columns)"
   ]
  },
  {
   "cell_type": "markdown",
   "metadata": {},
   "source": [
    "Connection to our database \"workshop_01\""
   ]
  },
  {
   "cell_type": "code",
   "execution_count": 33,
   "metadata": {},
   "outputs": [
    {
     "name": "stdout",
     "output_type": "stream",
     "text": [
      "¡Conexión exitosa!\n"
     ]
    },
    {
     "data": {
      "text/plain": [
       "<connection object at 0x000001EED1C0F450; dsn: 'user=postgres password=xxx dbname=workshop_01 host=localhost port=5432', closed: 0>"
      ]
     },
     "execution_count": 33,
     "metadata": {},
     "output_type": "execute_result"
    }
   ],
   "source": [
    "import psycopg2\n",
    "import json\n",
    "\n",
    "def create_connection():\n",
    "    try:\n",
    "        with open('../credentials.json') as f:\n",
    "            credentials = json.load(f)\n",
    "        \n",
    "        user = credentials['user']\n",
    "        password = credentials['password']\n",
    "        host = credentials['host']\n",
    "        port = credentials['port']\n",
    "        database = 'workshop_01'\n",
    "        \n",
    "        connection = psycopg2.connect(\n",
    "            dbname=database,\n",
    "            user=user,\n",
    "            password=password,\n",
    "            host=host,\n",
    "            port=port\n",
    "        )\n",
    "        print(\"¡Conexión exitosa!\")\n",
    "        return connection\n",
    "    except psycopg2.OperationalError as e:\n",
    "        print(f\"Error al conectar a la base de datos: {e}\")\n",
    "        return None\n",
    "\n",
    "create_connection()"
   ]
  },
  {
   "cell_type": "markdown",
   "metadata": {},
   "source": [
    "We create our table \"workshop_01\""
   ]
  },
  {
   "cell_type": "code",
   "execution_count": 34,
   "metadata": {},
   "outputs": [
    {
     "name": "stdout",
     "output_type": "stream",
     "text": [
      "¡Conexión exitosa!\n",
      "Tabla 'workshop_01' creada con éxito en la base de datos.\n"
     ]
    }
   ],
   "source": [
    "def create_table():\n",
    "    connection = create_connection()\n",
    "    if connection is not None:\n",
    "        try:\n",
    "            cursor = connection.cursor()\n",
    "            cursor.execute(\"\"\"\n",
    "                CREATE TABLE IF NOT EXISTS workshop_01 (\n",
    "                    first_name VARCHAR(150),\n",
    "                    last_name VARCHAR(150),\n",
    "                    email VARCHAR(100),\n",
    "                    country VARCHAR(150),\n",
    "                    application_date DATE,\n",
    "                    yoe INTEGER,\n",
    "                    seniority VARCHAR(150),\n",
    "                    technology VARCHAR(100),\n",
    "                    code_challenge_score DECIMAL(5, 2),\n",
    "                    technical_interview VARCHAR(150)\n",
    "                );\n",
    "            \"\"\")\n",
    "            connection.commit()\n",
    "            print(\"Tabla 'workshop_01' creada con éxito en la base de datos.\")\n",
    "        except psycopg2.Error as e:\n",
    "            print(f\"Error al crear la tabla: {e}\")\n",
    "        finally:\n",
    "            cursor.close()\n",
    "            connection.close()\n",
    "    else:\n",
    "        print(\"No se pudo establecer la conexión con la base de datos.\")\n",
    "\n",
    "create_table()"
   ]
  },
  {
   "cell_type": "markdown",
   "metadata": {},
   "source": [
    "Insert the data from our dataframe to our databases"
   ]
  },
  {
   "cell_type": "code",
   "execution_count": 40,
   "metadata": {},
   "outputs": [
    {
     "name": "stdout",
     "output_type": "stream",
     "text": [
      "¡Conexión exitosa!\n",
      "Datos insertados exitosamente\n"
     ]
    }
   ],
   "source": [
    "def insertar_datos(df):\n",
    "    connection = create_connection()\n",
    "    if connection is not None:\n",
    "        cursor = connection.cursor()\n",
    "        query = \"\"\"\n",
    "        INSERT INTO workshop_01 (\n",
    "            first_name, last_name, email, country, application_date,\n",
    "            yoe, seniority, technology, code_challenge_score, technical_interview\n",
    "        ) VALUES (\n",
    "            %(first_name)s, %(last_name)s, %(email)s, %(country)s, %(application_date)s,\n",
    "            %(yoe)s, %(seniority)s, %(technology)s, %(code_challenge_score)s, %(technical_interview)s\n",
    "        )\n",
    "        \"\"\"\n",
    "        try:\n",
    "            for index, row in df.iterrows():\n",
    "                data = row.to_dict()\n",
    "                cursor.execute(query, data)\n",
    "            connection.commit()\n",
    "            print(\"Datos insertados exitosamente\")\n",
    "        except (Exception, psycopg2.DatabaseError) as error:\n",
    "            print(f\"Error al insertar datos: {error}\")\n",
    "        finally:\n",
    "            cursor.close()\n",
    "            connection.close()\n",
    "    else:\n",
    "        print(\"No se pudo establecer la conexión con la base de datos.\")\n",
    "\n",
    "# Insertar los datos en la base de datos\n",
    "insertar_datos(df)\n"
   ]
  },
  {
   "cell_type": "markdown",
   "metadata": {},
   "source": [
    "I show the first 5 results from our database"
   ]
  },
  {
   "cell_type": "code",
   "execution_count": 41,
   "metadata": {},
   "outputs": [
    {
     "name": "stdout",
     "output_type": "stream",
     "text": [
      "¡Conexión exitosa!\n",
      "Resultados de la tabla 'workshop_01':\n",
      "first_name | last_name | email | country | application_date | yoe | seniority | technology | code_challenge_score | technical_interview\n",
      "('Bernadette', 'Langworth', 'leonard91@yahoo.com', 'Norway', datetime.date(2021, 2, 26), 2, 'Intern', 'Data Engineer', Decimal('3.00'), '3')\n",
      "('Camryn', 'Reynolds', 'zelda56@hotmail.com', 'Panama', datetime.date(2021, 9, 9), 10, 'Intern', 'Data Engineer', Decimal('2.00'), '10')\n",
      "('Larue', 'Spinka', 'okey_schultz41@gmail.com', 'Belarus', datetime.date(2020, 4, 14), 4, 'Mid-Level', 'Client Success', Decimal('10.00'), '9')\n"
     ]
    }
   ],
   "source": [
    "def mostrar_primeros_resultados(tabla, num_filas=3):\n",
    "    connection = create_connection()\n",
    "    if connection is not None:\n",
    "        try:\n",
    "            cursor = connection.cursor()\n",
    "            query = f\"SELECT * FROM {tabla} LIMIT %s;\"\n",
    "            cursor.execute(query, (num_filas,))\n",
    "            resultados = cursor.fetchall()\n",
    "            \n",
    "            column_names = [desc[0] for desc in cursor.description]\n",
    "            print(f\"Resultados de la tabla '{tabla}':\")\n",
    "            print(f\"{' | '.join(column_names)}\")\n",
    "            for fila in resultados:\n",
    "                print(fila)\n",
    "        except (Exception, psycopg2.DatabaseError) as error:\n",
    "            print(f\"Error al mostrar resultados: {error}\")\n",
    "        finally:\n",
    "            cursor.close()\n",
    "            connection.close()\n",
    "    else:\n",
    "        print(\"No se pudo establecer la conexión con la base de datos.\")\n",
    "\n",
    "mostrar_primeros_resultados('workshop_01')"
   ]
  }
 ],
 "metadata": {
  "kernelspec": {
   "display_name": ".venv",
   "language": "python",
   "name": "python3"
  },
  "language_info": {
   "codemirror_mode": {
    "name": "ipython",
    "version": 3
   },
   "file_extension": ".py",
   "mimetype": "text/x-python",
   "name": "python",
   "nbconvert_exporter": "python",
   "pygments_lexer": "ipython3",
   "version": "3.11.4"
  }
 },
 "nbformat": 4,
 "nbformat_minor": 2
}
